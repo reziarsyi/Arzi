{
  "nbformat": 4,
  "nbformat_minor": 0,
  "metadata": {
    "colab": {
      "name": "Tugas Besar 2 ML.ipynb",
      "provenance": [],
      "collapsed_sections": []
    },
    "kernelspec": {
      "name": "python3",
      "display_name": "Python 3"
    },
    "language_info": {
      "name": "python"
    }
  },
  "cells": [
    {
      "cell_type": "markdown",
      "source": [
        "# IMPORT LIBRARY"
      ],
      "metadata": {
        "id": "3Td4baa8C0nm"
      }
    },
    {
      "cell_type": "code",
      "execution_count": 1,
      "metadata": {
        "id": "58DNUwUVCyya"
      },
      "outputs": [],
      "source": [
        "import pandas as pd\n",
        "import numpy as np\n",
        "from sklearn.metrics import accuracy_score, average_precision_score, confusion_matrix\n",
        "from sklearn import preprocessing\n",
        "from scipy.spatial import distance\n",
        "from operator import itemgetter\n",
        "from sklearn.model_selection import train_test_split\n",
        "from sklearn.preprocessing import MinMaxScaler\n",
        "import matplotlib.pyplot as plt\n",
        "import matplotlib\n",
        "import time\n",
        "from mpl_toolkits import mplot3d\n",
        "import statistics\n",
        "import missingno as msno"
      ]
    },
    {
      "cell_type": "markdown",
      "source": [
        "## Import dataset yang telah disediakan"
      ],
      "metadata": {
        "id": "xDUgLrFvzyUJ"
      }
    },
    {
      "cell_type": "code",
      "source": [
        "dataset=pd.read_csv(\"https://raw.githubusercontent.com/reziarsyi/Arzi/main/kendaraan_train.csv\")\n",
        "dataset_test = pd.read_csv(\"https://raw.githubusercontent.com/reziarsyi/Arzi/main/kendaraan_test.csv\")"
      ],
      "metadata": {
        "id": "76-RaFWxDAbM"
      },
      "execution_count": 2,
      "outputs": []
    },
    {
      "cell_type": "code",
      "source": [
        "dataset.head()"
      ],
      "metadata": {
        "colab": {
          "base_uri": "https://localhost:8080/",
          "height": 206
        },
        "id": "d2D6kBwzDDNE",
        "outputId": "f737e63e-7b2b-4057-9f9f-346274668bd0"
      },
      "execution_count": 3,
      "outputs": [
        {
          "output_type": "execute_result",
          "data": {
            "text/html": [
              "<div>\n",
              "<style scoped>\n",
              "    .dataframe tbody tr th:only-of-type {\n",
              "        vertical-align: middle;\n",
              "    }\n",
              "\n",
              "    .dataframe tbody tr th {\n",
              "        vertical-align: top;\n",
              "    }\n",
              "\n",
              "    .dataframe thead th {\n",
              "        text-align: right;\n",
              "    }\n",
              "</style>\n",
              "<table border=\"1\" class=\"dataframe\">\n",
              "  <thead>\n",
              "    <tr style=\"text-align: right;\">\n",
              "      <th></th>\n",
              "      <th>id</th>\n",
              "      <th>Jenis_Kelamin</th>\n",
              "      <th>Umur</th>\n",
              "      <th>SIM</th>\n",
              "      <th>Kode_Daerah</th>\n",
              "      <th>Sudah_Asuransi</th>\n",
              "      <th>Umur_Kendaraan</th>\n",
              "      <th>Kendaraan_Rusak</th>\n",
              "      <th>Premi</th>\n",
              "      <th>Kanal_Penjualan</th>\n",
              "      <th>Lama_Berlangganan</th>\n",
              "      <th>Tertarik</th>\n",
              "    </tr>\n",
              "  </thead>\n",
              "  <tbody>\n",
              "    <tr>\n",
              "      <th>0</th>\n",
              "      <td>1</td>\n",
              "      <td>Wanita</td>\n",
              "      <td>30.0</td>\n",
              "      <td>1.0</td>\n",
              "      <td>33.0</td>\n",
              "      <td>1.0</td>\n",
              "      <td>&lt; 1 Tahun</td>\n",
              "      <td>Tidak</td>\n",
              "      <td>28029.0</td>\n",
              "      <td>152.0</td>\n",
              "      <td>97.0</td>\n",
              "      <td>0</td>\n",
              "    </tr>\n",
              "    <tr>\n",
              "      <th>1</th>\n",
              "      <td>2</td>\n",
              "      <td>Pria</td>\n",
              "      <td>48.0</td>\n",
              "      <td>1.0</td>\n",
              "      <td>39.0</td>\n",
              "      <td>0.0</td>\n",
              "      <td>&gt; 2 Tahun</td>\n",
              "      <td>Pernah</td>\n",
              "      <td>25800.0</td>\n",
              "      <td>29.0</td>\n",
              "      <td>158.0</td>\n",
              "      <td>0</td>\n",
              "    </tr>\n",
              "    <tr>\n",
              "      <th>2</th>\n",
              "      <td>3</td>\n",
              "      <td>NaN</td>\n",
              "      <td>21.0</td>\n",
              "      <td>1.0</td>\n",
              "      <td>46.0</td>\n",
              "      <td>1.0</td>\n",
              "      <td>&lt; 1 Tahun</td>\n",
              "      <td>Tidak</td>\n",
              "      <td>32733.0</td>\n",
              "      <td>160.0</td>\n",
              "      <td>119.0</td>\n",
              "      <td>0</td>\n",
              "    </tr>\n",
              "    <tr>\n",
              "      <th>3</th>\n",
              "      <td>4</td>\n",
              "      <td>Wanita</td>\n",
              "      <td>58.0</td>\n",
              "      <td>1.0</td>\n",
              "      <td>48.0</td>\n",
              "      <td>0.0</td>\n",
              "      <td>1-2 Tahun</td>\n",
              "      <td>Tidak</td>\n",
              "      <td>2630.0</td>\n",
              "      <td>124.0</td>\n",
              "      <td>63.0</td>\n",
              "      <td>0</td>\n",
              "    </tr>\n",
              "    <tr>\n",
              "      <th>4</th>\n",
              "      <td>5</td>\n",
              "      <td>Pria</td>\n",
              "      <td>50.0</td>\n",
              "      <td>1.0</td>\n",
              "      <td>35.0</td>\n",
              "      <td>0.0</td>\n",
              "      <td>&gt; 2 Tahun</td>\n",
              "      <td>NaN</td>\n",
              "      <td>34857.0</td>\n",
              "      <td>88.0</td>\n",
              "      <td>194.0</td>\n",
              "      <td>0</td>\n",
              "    </tr>\n",
              "  </tbody>\n",
              "</table>\n",
              "</div>"
            ],
            "text/plain": [
              "   id Jenis_Kelamin  Umur  ...  Kanal_Penjualan  Lama_Berlangganan  Tertarik\n",
              "0   1        Wanita  30.0  ...            152.0               97.0         0\n",
              "1   2          Pria  48.0  ...             29.0              158.0         0\n",
              "2   3           NaN  21.0  ...            160.0              119.0         0\n",
              "3   4        Wanita  58.0  ...            124.0               63.0         0\n",
              "4   5          Pria  50.0  ...             88.0              194.0         0\n",
              "\n",
              "[5 rows x 12 columns]"
            ]
          },
          "metadata": {},
          "execution_count": 3
        }
      ]
    },
    {
      "cell_type": "markdown",
      "source": [
        "====================================================================================="
      ],
      "metadata": {
        "id": "3RYwdW6ZDNG0"
      }
    },
    {
      "cell_type": "code",
      "source": [
        "dataset.shape"
      ],
      "metadata": {
        "colab": {
          "base_uri": "https://localhost:8080/"
        },
        "id": "KfVbkH25DOi1",
        "outputId": "bfde904a-68b2-43e2-ba02-0574cb292936"
      },
      "execution_count": 11,
      "outputs": [
        {
          "output_type": "execute_result",
          "data": {
            "text/plain": [
              "(285831, 12)"
            ]
          },
          "metadata": {},
          "execution_count": 11
        }
      ]
    },
    {
      "cell_type": "code",
      "source": [
        "dataset.dtypes"
      ],
      "metadata": {
        "colab": {
          "base_uri": "https://localhost:8080/"
        },
        "id": "8pgrbd2MDRV0",
        "outputId": "95a6690d-b9c6-4a20-83e2-ba23e464018a"
      },
      "execution_count": 12,
      "outputs": [
        {
          "output_type": "execute_result",
          "data": {
            "text/plain": [
              "id                     int64\n",
              "Jenis_Kelamin         object\n",
              "Umur                 float64\n",
              "SIM                  float64\n",
              "Kode_Daerah          float64\n",
              "Sudah_Asuransi       float64\n",
              "Umur_Kendaraan        object\n",
              "Kendaraan_Rusak       object\n",
              "Premi                float64\n",
              "Kanal_Penjualan      float64\n",
              "Lama_Berlangganan    float64\n",
              "Tertarik               int64\n",
              "dtype: object"
            ]
          },
          "metadata": {},
          "execution_count": 12
        }
      ]
    },
    {
      "cell_type": "markdown",
      "source": [
        "### **`DATA PRE-PROCESSING`**"
      ],
      "metadata": {
        "id": "AqvbQtmvP798"
      }
    },
    {
      "cell_type": "code",
      "source": [
        "#Untuk Melihat Data NaN (kosong) disetiap kolom\n",
        "msno.matrix(dataset)"
      ],
      "metadata": {
        "colab": {
          "base_uri": "https://localhost:8080/",
          "height": 685
        },
        "id": "WG1fIlyKzJ-z",
        "outputId": "ed376111-b404-41a4-be10-521f7b116e58"
      },
      "execution_count": 4,
      "outputs": [
        {
          "output_type": "execute_result",
          "data": {
            "text/plain": [
              "<matplotlib.axes._subplots.AxesSubplot at 0x7f6e08deaad0>"
            ]
          },
          "metadata": {},
          "execution_count": 4
        },
        {
          "output_type": "display_data",
          "data": {
            "image/png": "[encoded data removed]",
            "text/plain": [
              "<Figure size 1800x720 with 2 Axes>"
            ]
          },
          "metadata": {
            "needs_background": "light"
          }
        }
      ]
    },
    {
      "cell_type": "code",
      "source": [
        "dataset.isnull().sum()"
      ],
      "metadata": {
        "colab": {
          "base_uri": "https://localhost:8080/"
        },
        "id": "hF4ouLX1DXkl",
        "outputId": "262638de-4572-470b-cf4e-8022d179abb8"
      },
      "execution_count": 13,
      "outputs": [
        {
          "output_type": "execute_result",
          "data": {
            "text/plain": [
              "id                       0\n",
              "Jenis_Kelamin        14440\n",
              "Umur                 14214\n",
              "SIM                  14404\n",
              "Kode_Daerah          14306\n",
              "Sudah_Asuransi       14229\n",
              "Umur_Kendaraan       14275\n",
              "Kendaraan_Rusak      14188\n",
              "Premi                14569\n",
              "Kanal_Penjualan      14299\n",
              "Lama_Berlangganan    13992\n",
              "Tertarik                 0\n",
              "dtype: int64"
            ]
          },
          "metadata": {},
          "execution_count": 13
        }
      ]
    },
    {
      "cell_type": "markdown",
      "source": [
        "# Mengganti isi data Missing Value(NaN) pada setiap Kolom"
      ],
      "metadata": {
        "id": "WAcZBIf6M4cx"
      }
    },
    {
      "cell_type": "code",
      "source": [
        "dataset[\"Jenis_Kelamin\"] = dataset[\"Jenis_Kelamin\"].replace(np.NaN, np.random.choice(a=[\"Pria\",\"Wanita\"],p=[0.54,0.46])) #Dengan Probabilitas\n",
        "dataset[\"Umur\"] = dataset[\"Umur\"].replace(np.NaN, dataset[\"Umur\"].mean()) #Dengan Rata-Rata\n",
        "dataset[\"SIM\"] = dataset[\"SIM\"].replace(np.NaN, dataset[\"SIM\"].mean())\n",
        "dataset[\"Kode_Daerah\"] = dataset[\"Kode_Daerah\"].replace(np.NaN, statistics.mode(dataset[\"Kode_Daerah\"])) \n",
        "dataset [\"Sudah_Asuransi\"] = dataset[\"Sudah_Asuransi\"].replace(np.NaN, np.random.choice(a=[0, 1],p=[0.5417, 0.4583]))\n",
        "dataset [\"Umur_Kendaraan\"] = dataset[\"Umur_Kendaraan\"].replace(np.NaN, np.random.choice(a=[\"< 1 Tahun\", \"1-2 Tahun\", \"> 2 Tahun\"],p=[0.431, 0.527, 0.042])) \n",
        "dataset [\"Kendaraan_Rusak\"] = dataset[\"Kendaraan_Rusak\"].replace(np.NaN, np.random.choice(a=[\"Pernah\", \"Tidak\"],p=[0.5355, 0.4645]))\n",
        "dataset [\"Premi\"] = dataset[\"Premi\"].replace(np.NaN, dataset[\"Premi\"].mean()) \n",
        "dataset[\"Kanal_Penjualan\"] = dataset[\"Kanal_Penjualan\"].replace(np.NaN, 152) \n",
        "dataset [\"Lama_Berlangganan\"] = dataset[ \"Lama_Berlangganan\"].replace(np.NaN, dataset[\"Lama_Berlangganan\"].mean())\n",
        "\n",
        "print(dataset.isnull().sum()) \n",
        "dataset.shape"
      ],
      "metadata": {
        "colab": {
          "base_uri": "https://localhost:8080/"
        },
        "id": "yCdoz1hsDdNV",
        "outputId": "63854b9d-5a26-4df3-886d-81d749c6e560"
      },
      "execution_count": 14,
      "outputs": [
        {
          "output_type": "stream",
          "name": "stdout",
          "text": [
            "id                   0\n",
            "Jenis_Kelamin        0\n",
            "Umur                 0\n",
            "SIM                  0\n",
            "Kode_Daerah          0\n",
            "Sudah_Asuransi       0\n",
            "Umur_Kendaraan       0\n",
            "Kendaraan_Rusak      0\n",
            "Premi                0\n",
            "Kanal_Penjualan      0\n",
            "Lama_Berlangganan    0\n",
            "Tertarik             0\n",
            "dtype: int64\n"
          ]
        },
        {
          "output_type": "execute_result",
          "data": {
            "text/plain": [
              "(285831, 12)"
            ]
          },
          "metadata": {},
          "execution_count": 14
        }
      ]
    },
    {
      "cell_type": "code",
      "source": [
        "dataset.head()"
      ],
      "metadata": {
        "colab": {
          "base_uri": "https://localhost:8080/",
          "height": 206
        },
        "id": "_WMOk-V4Djwd",
        "outputId": "6ccecde8-ad4f-4b5f-e066-177a40d8c36c"
      },
      "execution_count": 15,
      "outputs": [
        {
          "output_type": "execute_result",
          "data": {
            "text/html": [
              "<div>\n",
              "<style scoped>\n",
              "    .dataframe tbody tr th:only-of-type {\n",
              "        vertical-align: middle;\n",
              "    }\n",
              "\n",
              "    .dataframe tbody tr th {\n",
              "        vertical-align: top;\n",
              "    }\n",
              "\n",
              "    .dataframe thead th {\n",
              "        text-align: right;\n",
              "    }\n",
              "</style>\n",
              "<table border=\"1\" class=\"dataframe\">\n",
              "  <thead>\n",
              "    <tr style=\"text-align: right;\">\n",
              "      <th></th>\n",
              "      <th>id</th>\n",
              "      <th>Jenis_Kelamin</th>\n",
              "      <th>Umur</th>\n",
              "      <th>SIM</th>\n",
              "      <th>Kode_Daerah</th>\n",
              "      <th>Sudah_Asuransi</th>\n",
              "      <th>Umur_Kendaraan</th>\n",
              "      <th>Kendaraan_Rusak</th>\n",
              "      <th>Premi</th>\n",
              "      <th>Kanal_Penjualan</th>\n",
              "      <th>Lama_Berlangganan</th>\n",
              "      <th>Tertarik</th>\n",
              "    </tr>\n",
              "  </thead>\n",
              "  <tbody>\n",
              "    <tr>\n",
              "      <th>0</th>\n",
              "      <td>1</td>\n",
              "      <td>Wanita</td>\n",
              "      <td>30.0</td>\n",
              "      <td>1.0</td>\n",
              "      <td>33.0</td>\n",
              "      <td>1.0</td>\n",
              "      <td>&lt; 1 Tahun</td>\n",
              "      <td>Tidak</td>\n",
              "      <td>28029.0</td>\n",
              "      <td>152.0</td>\n",
              "      <td>97.0</td>\n",
              "      <td>0</td>\n",
              "    </tr>\n",
              "    <tr>\n",
              "      <th>1</th>\n",
              "      <td>2</td>\n",
              "      <td>Pria</td>\n",
              "      <td>48.0</td>\n",
              "      <td>1.0</td>\n",
              "      <td>39.0</td>\n",
              "      <td>0.0</td>\n",
              "      <td>&gt; 2 Tahun</td>\n",
              "      <td>Pernah</td>\n",
              "      <td>25800.0</td>\n",
              "      <td>29.0</td>\n",
              "      <td>158.0</td>\n",
              "      <td>0</td>\n",
              "    </tr>\n",
              "    <tr>\n",
              "      <th>2</th>\n",
              "      <td>3</td>\n",
              "      <td>Wanita</td>\n",
              "      <td>21.0</td>\n",
              "      <td>1.0</td>\n",
              "      <td>46.0</td>\n",
              "      <td>1.0</td>\n",
              "      <td>&lt; 1 Tahun</td>\n",
              "      <td>Tidak</td>\n",
              "      <td>32733.0</td>\n",
              "      <td>160.0</td>\n",
              "      <td>119.0</td>\n",
              "      <td>0</td>\n",
              "    </tr>\n",
              "    <tr>\n",
              "      <th>3</th>\n",
              "      <td>4</td>\n",
              "      <td>Wanita</td>\n",
              "      <td>58.0</td>\n",
              "      <td>1.0</td>\n",
              "      <td>48.0</td>\n",
              "      <td>0.0</td>\n",
              "      <td>1-2 Tahun</td>\n",
              "      <td>Tidak</td>\n",
              "      <td>2630.0</td>\n",
              "      <td>124.0</td>\n",
              "      <td>63.0</td>\n",
              "      <td>0</td>\n",
              "    </tr>\n",
              "    <tr>\n",
              "      <th>4</th>\n",
              "      <td>5</td>\n",
              "      <td>Pria</td>\n",
              "      <td>50.0</td>\n",
              "      <td>1.0</td>\n",
              "      <td>35.0</td>\n",
              "      <td>0.0</td>\n",
              "      <td>&gt; 2 Tahun</td>\n",
              "      <td>Tidak</td>\n",
              "      <td>34857.0</td>\n",
              "      <td>88.0</td>\n",
              "      <td>194.0</td>\n",
              "      <td>0</td>\n",
              "    </tr>\n",
              "  </tbody>\n",
              "</table>\n",
              "</div>"
            ],
            "text/plain": [
              "   id Jenis_Kelamin  Umur  ...  Kanal_Penjualan  Lama_Berlangganan  Tertarik\n",
              "0   1        Wanita  30.0  ...            152.0               97.0         0\n",
              "1   2          Pria  48.0  ...             29.0              158.0         0\n",
              "2   3        Wanita  21.0  ...            160.0              119.0         0\n",
              "3   4        Wanita  58.0  ...            124.0               63.0         0\n",
              "4   5          Pria  50.0  ...             88.0              194.0         0\n",
              "\n",
              "[5 rows x 12 columns]"
            ]
          },
          "metadata": {},
          "execution_count": 15
        }
      ]
    },
    {
      "cell_type": "markdown",
      "source": [
        "#Konversi Tipe Data"
      ],
      "metadata": {
        "id": "vGsd-x8cM9-h"
      }
    },
    {
      "cell_type": "code",
      "source": [
        "\n",
        "convert_data_types={\n",
        "    #'id' : int,\n",
        "    'Jenis_Kelamin' : object,\n",
        "    'Umur' : int,\n",
        "    'SIM' : int,\n",
        "    'Kode_Daerah' : int,\n",
        "    'Sudah_Asuransi' : int,\n",
        "    'Umur_Kendaraan' : object,\n",
        "    'Kendaraan_Rusak' : object,\n",
        "    'Premi' : int,\n",
        "    'Kanal_Penjualan' : int,\n",
        "    'Lama_Berlangganan' : int\n",
        "}\n",
        "dataset = dataset.astype(convert_data_types)\n",
        "dataset_test = dataset_test.astype(convert_data_types)\n",
        "dataset.dtypes"
      ],
      "metadata": {
        "colab": {
          "base_uri": "https://localhost:8080/"
        },
        "id": "vzJGXDnnFfr4",
        "outputId": "c26a4797-5ca4-4b10-d350-61a063dda5f7"
      },
      "execution_count": 16,
      "outputs": [
        {
          "output_type": "execute_result",
          "data": {
            "text/plain": [
              "id                    int64\n",
              "Jenis_Kelamin        object\n",
              "Umur                  int64\n",
              "SIM                   int64\n",
              "Kode_Daerah           int64\n",
              "Sudah_Asuransi        int64\n",
              "Umur_Kendaraan       object\n",
              "Kendaraan_Rusak      object\n",
              "Premi                 int64\n",
              "Kanal_Penjualan       int64\n",
              "Lama_Berlangganan     int64\n",
              "Tertarik              int64\n",
              "dtype: object"
            ]
          },
          "metadata": {},
          "execution_count": 16
        }
      ]
    },
    {
      "cell_type": "markdown",
      "source": [
        "# Melakukan Scalling Data pada beberapa kolom"
      ],
      "metadata": {
        "id": "_AJa477lMwSy"
      }
    },
    {
      "cell_type": "code",
      "source": [
        "scale_Kendaraan_Rusak = {\"Tidak\":0,\"Pernah\":1}\n",
        "dataset[\"Kendaraan_Rusak\"] = dataset[\"Kendaraan_Rusak\"].replace(scale_Kendaraan_Rusak)\n",
        "dataset_test[\"Kendaraan_Rusak\"] = dataset_test[\"Kendaraan_Rusak\"].replace(scale_Kendaraan_Rusak)\n",
        "\n",
        "scale_Jenis_Kelamin = {\"Wanita\":0,\"Pria\":1}\n",
        "dataset[\"Jenis_Kelamin\"] = dataset[\"Jenis_Kelamin\"].replace(scale_Jenis_Kelamin)\n",
        "dataset_test[\"Jenis_Kelamin\"] = dataset_test[\"Jenis_Kelamin\"].replace(scale_Jenis_Kelamin)\n",
        "\n",
        "#DROP BEBERAPA KOLOM PADA DATA\n",
        "\n",
        "umurKD = pd.get_dummies(dataset[\"Umur_Kendaraan\"], drop_first=True)\n",
        "dataset = pd.concat([dataset,umurKD], axis=1)\n",
        "dataset.drop([\"Umur_Kendaraan\",\"id\",\"Kode_Daerah\",\"Kanal_Penjualan\"], axis=1,inplace=True)\n",
        "\n",
        "umurKD = pd.get_dummies(dataset_test[\"Umur_Kendaraan\"], drop_first=True)\n",
        "dataset_test = pd.concat([dataset_test,umurKD], axis=1)\n",
        "dataset_test.drop([\"Umur_Kendaraan\",\"Kode_Daerah\",\"Kanal_Penjualan\"], axis=1,inplace=True)"
      ],
      "metadata": {
        "id": "aJi_npIWFm_9"
      },
      "execution_count": 17,
      "outputs": []
    },
    {
      "cell_type": "code",
      "source": [
        "dataset.head()"
      ],
      "metadata": {
        "colab": {
          "base_uri": "https://localhost:8080/",
          "height": 206
        },
        "id": "2Ux1RbBKF_Ov",
        "outputId": "679cb6ef-7770-41de-f768-de27b9dcd2f9"
      },
      "execution_count": 18,
      "outputs": [
        {
          "output_type": "execute_result",
          "data": {
            "text/html": [
              "<div>\n",
              "<style scoped>\n",
              "    .dataframe tbody tr th:only-of-type {\n",
              "        vertical-align: middle;\n",
              "    }\n",
              "\n",
              "    .dataframe tbody tr th {\n",
              "        vertical-align: top;\n",
              "    }\n",
              "\n",
              "    .dataframe thead th {\n",
              "        text-align: right;\n",
              "    }\n",
              "</style>\n",
              "<table border=\"1\" class=\"dataframe\">\n",
              "  <thead>\n",
              "    <tr style=\"text-align: right;\">\n",
              "      <th></th>\n",
              "      <th>Jenis_Kelamin</th>\n",
              "      <th>Umur</th>\n",
              "      <th>SIM</th>\n",
              "      <th>Sudah_Asuransi</th>\n",
              "      <th>Kendaraan_Rusak</th>\n",
              "      <th>Premi</th>\n",
              "      <th>Lama_Berlangganan</th>\n",
              "      <th>Tertarik</th>\n",
              "      <th>&lt; 1 Tahun</th>\n",
              "      <th>&gt; 2 Tahun</th>\n",
              "    </tr>\n",
              "  </thead>\n",
              "  <tbody>\n",
              "    <tr>\n",
              "      <th>0</th>\n",
              "      <td>0</td>\n",
              "      <td>30</td>\n",
              "      <td>1</td>\n",
              "      <td>1</td>\n",
              "      <td>0</td>\n",
              "      <td>28029</td>\n",
              "      <td>97</td>\n",
              "      <td>0</td>\n",
              "      <td>1</td>\n",
              "      <td>0</td>\n",
              "    </tr>\n",
              "    <tr>\n",
              "      <th>1</th>\n",
              "      <td>1</td>\n",
              "      <td>48</td>\n",
              "      <td>1</td>\n",
              "      <td>0</td>\n",
              "      <td>1</td>\n",
              "      <td>25800</td>\n",
              "      <td>158</td>\n",
              "      <td>0</td>\n",
              "      <td>0</td>\n",
              "      <td>1</td>\n",
              "    </tr>\n",
              "    <tr>\n",
              "      <th>2</th>\n",
              "      <td>0</td>\n",
              "      <td>21</td>\n",
              "      <td>1</td>\n",
              "      <td>1</td>\n",
              "      <td>0</td>\n",
              "      <td>32733</td>\n",
              "      <td>119</td>\n",
              "      <td>0</td>\n",
              "      <td>1</td>\n",
              "      <td>0</td>\n",
              "    </tr>\n",
              "    <tr>\n",
              "      <th>3</th>\n",
              "      <td>0</td>\n",
              "      <td>58</td>\n",
              "      <td>1</td>\n",
              "      <td>0</td>\n",
              "      <td>0</td>\n",
              "      <td>2630</td>\n",
              "      <td>63</td>\n",
              "      <td>0</td>\n",
              "      <td>0</td>\n",
              "      <td>0</td>\n",
              "    </tr>\n",
              "    <tr>\n",
              "      <th>4</th>\n",
              "      <td>1</td>\n",
              "      <td>50</td>\n",
              "      <td>1</td>\n",
              "      <td>0</td>\n",
              "      <td>0</td>\n",
              "      <td>34857</td>\n",
              "      <td>194</td>\n",
              "      <td>0</td>\n",
              "      <td>0</td>\n",
              "      <td>1</td>\n",
              "    </tr>\n",
              "  </tbody>\n",
              "</table>\n",
              "</div>"
            ],
            "text/plain": [
              "   Jenis_Kelamin  Umur  SIM  ...  Tertarik  < 1 Tahun  > 2 Tahun\n",
              "0              0    30    1  ...         0          1          0\n",
              "1              1    48    1  ...         0          0          1\n",
              "2              0    21    1  ...         0          1          0\n",
              "3              0    58    1  ...         0          0          0\n",
              "4              1    50    1  ...         0          0          1\n",
              "\n",
              "[5 rows x 10 columns]"
            ]
          },
          "metadata": {},
          "execution_count": 18
        }
      ]
    },
    {
      "cell_type": "markdown",
      "source": [
        "# =========== **PERMODELAN menggunakan KNN** ================="
      ],
      "metadata": {
        "id": "5RQbQMvlMQUD"
      }
    },
    {
      "cell_type": "markdown",
      "source": [
        "#Melakukan Feature Selection"
      ],
      "metadata": {
        "id": "MTgTt9n7NJ4K"
      }
    },
    {
      "cell_type": "code",
      "source": [
        "x1=dataset.iloc[:, [0,1,2,3,4,5,6,8,9]].values\n",
        "y1=dataset.iloc[:,7].values\n",
        "\n",
        "x2=dataset_test.iloc[:,[0,1,2,3,4,5,6,8,9]].values\n",
        "y2=dataset_test.iloc[:,7].values"
      ],
      "metadata": {
        "id": "CGDJOFL3GDAo"
      },
      "execution_count": 19,
      "outputs": []
    },
    {
      "cell_type": "code",
      "source": [
        "min_max_scaler = preprocessing.MinMaxScaler()\n",
        "x1 = min_max_scaler.fit_transform(x1)\n",
        "x2 = min_max_scaler.fit_transform(x2)"
      ],
      "metadata": {
        "id": "HRhPR1kyGG4W"
      },
      "execution_count": 20,
      "outputs": []
    },
    {
      "cell_type": "markdown",
      "source": [
        "## **Melakukan Splitting Data**"
      ],
      "metadata": {
        "id": "rKguop21OJo7"
      }
    },
    {
      "cell_type": "code",
      "source": [
        "X_train , X_test, y_train, y_test = train_test_split(x1,y1,test_size=0.3) #Melakukan Spilting data"
      ],
      "metadata": {
        "id": "FugdTSfAHEuW"
      },
      "execution_count": null,
      "outputs": []
    },
    {
      "cell_type": "markdown",
      "source": [
        "## MODELLING"
      ],
      "metadata": {
        "id": "b3yd2ZV_OlJz"
      }
    },
    {
      "cell_type": "code",
      "source": [
        "def most_common(lst):\n",
        "    return max(set(lst), key=lst.count)"
      ],
      "metadata": {
        "id": "D0TsTUnVHHvG"
      },
      "execution_count": 22,
      "outputs": []
    },
    {
      "cell_type": "code",
      "source": [
        "Accuracy=list()       \n",
        "timeRequired=list()\n",
        "#fungsi untuk  x (independen) variabel, y (dependent) varibale dan N (jumlah tetangga)\n",
        "def simpleKNN(X,y,N): \n",
        "    start = time.process_time()\n",
        "    global X_train,X_test,y_train,y_test, y_predicted \n",
        "    X_train,X_test,y_train,y_test=train_test_split(x1,y1,test_size=0.33,random_state=2) #untuk spliting data pada dataset train dan dataset test\n",
        "    columns=len(X_train.columns) #Untuk MEnyimpan jumlah dimensi X\n",
        "    y_predicted=list()\n",
        "    for index1,TestRow in X_test.iterrows(): #iterasi pada tes yang ditetapkan untuk melakukan prediksi pada setiap baris \n",
        "        TestRowTempValue=list()\n",
        "        for i in range(0,columns): \n",
        "            TestRowTempValue.append(TestRow.iloc[i]) #menyimpan data baris untuk menghitung jarak\n",
        "        temp=list()\n",
        "        for index2,trainRow in X_train.iterrows(): #iterasi atas pelatihan data untuk menghitung jarak dari setiap titik data\n",
        "            TrainRowTempValue=list()\n",
        "            for i in range(0,columns):\n",
        "                TrainRowTempValue.append(trainRow.iloc[i])\n",
        "            distanceFromPoint=distance.euclidean(TestRowTempValue,TrainRowTempValue) #store all distace and data points\n",
        "            temp.append((index1,index2,distanceFromPoint,y_train.loc[index2][0]))\n",
        "            sortedDis=sorted(temp, key=itemgetter(2)) #sort based on distance calculated\n",
        "            Ytop=sortedDis[:N]  #it will store nearest points\n",
        "            neighbours=list()\n",
        "            for i in Ytop:\n",
        "                neighbours.append(i[len(i)-1])\n",
        "        y_predicted.append(most_common(neighbours))\n",
        "    #print(\"Confusion Matrix \\n\",confusion_matrix(y_test,y_predicted),\"\\n\",\"Accuracy Score\",accuracy_score(y_test,y_predicted),\"\\n\",\"Precison\",average_precision_score(y_test,y_predicted))\n",
        "    Accuracy.append(accuracy_score(y_test,y_predicted))\n",
        "    timeRequired.append((time.process_time() - start))"
      ],
      "metadata": {
        "id": "nhePCBTYHOAP"
      },
      "execution_count": 23,
      "outputs": []
    },
    {
      "cell_type": "code",
      "source": [
        "from sklearn.neighbors import KNeighborsClassifier\n",
        "neigh = KNeighborsClassifier(n_neighbors=15)"
      ],
      "metadata": {
        "id": "UlBUfDbFHR73"
      },
      "execution_count": 24,
      "outputs": []
    },
    {
      "cell_type": "markdown",
      "source": [
        "## = Nilai N Terbaik ="
      ],
      "metadata": {
        "id": "TCPOhk072CUc"
      }
    },
    {
      "cell_type": "code",
      "source": [
        "neigh.fit(X_train,y_train)"
      ],
      "metadata": {
        "colab": {
          "base_uri": "https://localhost:8080/"
        },
        "id": "rSJSL85CIcZw",
        "outputId": "76736a13-aff8-4f17-da93-61600f80fbed"
      },
      "execution_count": 25,
      "outputs": [
        {
          "output_type": "execute_result",
          "data": {
            "text/plain": [
              "KNeighborsClassifier(n_neighbors=15)"
            ]
          },
          "metadata": {},
          "execution_count": 25
        }
      ]
    },
    {
      "cell_type": "code",
      "source": [
        "PredictedSKL=neigh.predict(x1)"
      ],
      "metadata": {
        "id": "79J1cVA4IkW4"
      },
      "execution_count": 36,
      "outputs": []
    },
    {
      "cell_type": "code",
      "source": [
        "print(\"Confusion Matrix Kendaraan_Train \\n\",confusion_matrix(y1,PredictedSKL),\"\\n\",\"Accuracy Score\",accuracy_score(y1,PredictedSKL),\"\\n\",\"Precison\",average_precision_score(y1,PredictedSKL))"
      ],
      "metadata": {
        "colab": {
          "base_uri": "https://localhost:8080/"
        },
        "id": "uHt0RJpVIsXx",
        "outputId": "8fc40d67-9e9c-4ecc-e424-83b4d8a22c3e"
      },
      "execution_count": 39,
      "outputs": [
        {
          "output_type": "stream",
          "name": "stdout",
          "text": [
            "Confusion Matrix Kendaraan_Train \n",
            " [[247882   2943]\n",
            " [ 32049   2957]] \n",
            " Accuracy Score 0.877578009383167 \n",
            " Precison 0.15446153351187705\n"
          ]
        }
      ]
    },
    {
      "cell_type": "code",
      "source": [
        "PredictedSKL2=neigh.predict(x2)"
      ],
      "metadata": {
        "id": "yhwItscfJsIx"
      },
      "execution_count": 29,
      "outputs": []
    },
    {
      "cell_type": "code",
      "source": [
        "print(\"Confusion Matrix Kendaraan_Test \\n\",confusion_matrix(y2,PredictedSKL2),\"\\n\",\"Accuracy Score\",accuracy_score(y2,PredictedSKL2),\"\\n\",\"Precison\",average_precision_score(y2,PredictedSKL2))"
      ],
      "metadata": {
        "colab": {
          "base_uri": "https://localhost:8080/"
        },
        "id": "PiJ_2BUHJ8Lh",
        "outputId": "7c9095bb-09b6-4075-ac44-a8edd2c35572"
      },
      "execution_count": 30,
      "outputs": [
        {
          "output_type": "stream",
          "name": "stdout",
          "text": [
            "Confusion Matrix Kendaraan_Test \n",
            " [[41122   656]\n",
            " [ 5532   329]] \n",
            " Accuracy Score 0.8701064254077542 \n",
            " Precison 0.1348725919047265\n"
          ]
        }
      ]
    },
    {
      "cell_type": "code",
      "source": [
        "print(dataset)"
      ],
      "metadata": {
        "colab": {
          "base_uri": "https://localhost:8080/"
        },
        "id": "yerT23qn7EL3",
        "outputId": "f17dcbe9-a9c1-483e-af93-02102ac701fa"
      },
      "execution_count": 40,
      "outputs": [
        {
          "output_type": "stream",
          "name": "stdout",
          "text": [
            "        Jenis_Kelamin  Umur  SIM  ...  Tertarik  < 1 Tahun  > 2 Tahun\n",
            "0                   0    30    1  ...         0          1          0\n",
            "1                   1    48    1  ...         0          0          1\n",
            "2                   0    21    1  ...         0          1          0\n",
            "3                   0    58    1  ...         0          0          0\n",
            "4                   1    50    1  ...         0          0          1\n",
            "...               ...   ...  ...  ...       ...        ...        ...\n",
            "285826              0    23    1  ...         0          1          0\n",
            "285827              0    21    1  ...         0          1          0\n",
            "285828              0    23    1  ...         0          1          0\n",
            "285829              1    68    1  ...         0          0          0\n",
            "285830              1    45    1  ...         0          0          0\n",
            "\n",
            "[285831 rows x 10 columns]\n"
          ]
        }
      ]
    },
    {
      "cell_type": "code",
      "source": [
        "dataset.head()"
      ],
      "metadata": {
        "colab": {
          "base_uri": "https://localhost:8080/",
          "height": 206
        },
        "id": "6Zp_bpjvAQQ4",
        "outputId": "73a1ffd0-9093-4c42-9e8a-9f302a077e35"
      },
      "execution_count": 41,
      "outputs": [
        {
          "output_type": "execute_result",
          "data": {
            "text/html": [
              "<div>\n",
              "<style scoped>\n",
              "    .dataframe tbody tr th:only-of-type {\n",
              "        vertical-align: middle;\n",
              "    }\n",
              "\n",
              "    .dataframe tbody tr th {\n",
              "        vertical-align: top;\n",
              "    }\n",
              "\n",
              "    .dataframe thead th {\n",
              "        text-align: right;\n",
              "    }\n",
              "</style>\n",
              "<table border=\"1\" class=\"dataframe\">\n",
              "  <thead>\n",
              "    <tr style=\"text-align: right;\">\n",
              "      <th></th>\n",
              "      <th>Jenis_Kelamin</th>\n",
              "      <th>Umur</th>\n",
              "      <th>SIM</th>\n",
              "      <th>Sudah_Asuransi</th>\n",
              "      <th>Kendaraan_Rusak</th>\n",
              "      <th>Premi</th>\n",
              "      <th>Lama_Berlangganan</th>\n",
              "      <th>Tertarik</th>\n",
              "      <th>&lt; 1 Tahun</th>\n",
              "      <th>&gt; 2 Tahun</th>\n",
              "    </tr>\n",
              "  </thead>\n",
              "  <tbody>\n",
              "    <tr>\n",
              "      <th>0</th>\n",
              "      <td>0</td>\n",
              "      <td>30</td>\n",
              "      <td>1</td>\n",
              "      <td>1</td>\n",
              "      <td>0</td>\n",
              "      <td>28029</td>\n",
              "      <td>97</td>\n",
              "      <td>0</td>\n",
              "      <td>1</td>\n",
              "      <td>0</td>\n",
              "    </tr>\n",
              "    <tr>\n",
              "      <th>1</th>\n",
              "      <td>1</td>\n",
              "      <td>48</td>\n",
              "      <td>1</td>\n",
              "      <td>0</td>\n",
              "      <td>1</td>\n",
              "      <td>25800</td>\n",
              "      <td>158</td>\n",
              "      <td>0</td>\n",
              "      <td>0</td>\n",
              "      <td>1</td>\n",
              "    </tr>\n",
              "    <tr>\n",
              "      <th>2</th>\n",
              "      <td>0</td>\n",
              "      <td>21</td>\n",
              "      <td>1</td>\n",
              "      <td>1</td>\n",
              "      <td>0</td>\n",
              "      <td>32733</td>\n",
              "      <td>119</td>\n",
              "      <td>0</td>\n",
              "      <td>1</td>\n",
              "      <td>0</td>\n",
              "    </tr>\n",
              "    <tr>\n",
              "      <th>3</th>\n",
              "      <td>0</td>\n",
              "      <td>58</td>\n",
              "      <td>1</td>\n",
              "      <td>0</td>\n",
              "      <td>0</td>\n",
              "      <td>2630</td>\n",
              "      <td>63</td>\n",
              "      <td>0</td>\n",
              "      <td>0</td>\n",
              "      <td>0</td>\n",
              "    </tr>\n",
              "    <tr>\n",
              "      <th>4</th>\n",
              "      <td>1</td>\n",
              "      <td>50</td>\n",
              "      <td>1</td>\n",
              "      <td>0</td>\n",
              "      <td>0</td>\n",
              "      <td>34857</td>\n",
              "      <td>194</td>\n",
              "      <td>0</td>\n",
              "      <td>0</td>\n",
              "      <td>1</td>\n",
              "    </tr>\n",
              "  </tbody>\n",
              "</table>\n",
              "</div>"
            ],
            "text/plain": [
              "   Jenis_Kelamin  Umur  SIM  ...  Tertarik  < 1 Tahun  > 2 Tahun\n",
              "0              0    30    1  ...         0          1          0\n",
              "1              1    48    1  ...         0          0          1\n",
              "2              0    21    1  ...         0          1          0\n",
              "3              0    58    1  ...         0          0          0\n",
              "4              1    50    1  ...         0          0          1\n",
              "\n",
              "[5 rows x 10 columns]"
            ]
          },
          "metadata": {},
          "execution_count": 41
        }
      ]
    }
  ]
}